{
 "cells": [
  {
   "cell_type": "code",
   "execution_count": 1,
   "metadata": {},
   "outputs": [],
   "source": [
    "# Import our dependencies\n",
    "import pandas as pd\n",
    "import os\n",
    "from pathlib import Path\n",
    "import csv\n",
    "import matplotlib.pyplot as plt\n",
    "import numpy as np\n",
    "from flask import jsonify\n",
    "from flask import Flask, render_template, jsonify\n",
    "from flask_sqlalchemy import SQLAlchemy"
   ]
  },
  {
   "cell_type": "code",
   "execution_count": 2,
   "metadata": {
    "collapsed": true
   },
   "outputs": [],
   "source": [
    "# Dependencies and boilerplate\n",
    "import sqlalchemy\n",
    "from sqlalchemy import Column, Float, Integer, String\n",
    "from sqlalchemy.ext.declarative import declarative_base\n",
    "from sqlalchemy.ext.automap import automap_base\n",
    "from sqlalchemy.orm import Session\n",
    "from sqlalchemy import MetaData\n",
    "from sqlalchemy import create_engine,inspect, MetaData"
   ]
  },
  {
   "cell_type": "code",
   "execution_count": 3,
   "metadata": {},
   "outputs": [
    {
     "name": "stdout",
     "output_type": "stream",
     "text": [
      "2018-03-18 21:28:13,259 INFO sqlalchemy.engine.base.Engine SELECT CAST('test plain returns' AS VARCHAR(60)) AS anon_1\n",
      "2018-03-18 21:28:13,263 INFO sqlalchemy.engine.base.Engine ()\n",
      "2018-03-18 21:28:13,267 INFO sqlalchemy.engine.base.Engine SELECT CAST('test unicode returns' AS VARCHAR(60)) AS anon_1\n",
      "2018-03-18 21:28:13,269 INFO sqlalchemy.engine.base.Engine ()\n",
      "2018-03-18 21:28:13,272 INFO sqlalchemy.engine.base.Engine SELECT name FROM sqlite_master WHERE type='table' ORDER BY name\n",
      "2018-03-18 21:28:13,275 INFO sqlalchemy.engine.base.Engine ()\n",
      "2018-03-18 21:28:13,280 INFO sqlalchemy.engine.base.Engine PRAGMA table_info(\"otu\")\n",
      "2018-03-18 21:28:13,282 INFO sqlalchemy.engine.base.Engine ()\n",
      "2018-03-18 21:28:13,285 INFO sqlalchemy.engine.base.Engine SELECT sql FROM  (SELECT * FROM sqlite_master UNION ALL   SELECT * FROM sqlite_temp_master) WHERE name = 'otu' AND type = 'table'\n",
      "2018-03-18 21:28:13,287 INFO sqlalchemy.engine.base.Engine ()\n",
      "2018-03-18 21:28:13,290 INFO sqlalchemy.engine.base.Engine PRAGMA foreign_key_list(\"otu\")\n",
      "2018-03-18 21:28:13,292 INFO sqlalchemy.engine.base.Engine ()\n",
      "2018-03-18 21:28:13,295 INFO sqlalchemy.engine.base.Engine SELECT sql FROM  (SELECT * FROM sqlite_master UNION ALL   SELECT * FROM sqlite_temp_master) WHERE name = 'otu' AND type = 'table'\n",
      "2018-03-18 21:28:13,297 INFO sqlalchemy.engine.base.Engine ()\n",
      "2018-03-18 21:28:13,302 INFO sqlalchemy.engine.base.Engine PRAGMA index_list(\"otu\")\n",
      "2018-03-18 21:28:13,305 INFO sqlalchemy.engine.base.Engine ()\n",
      "2018-03-18 21:28:13,307 INFO sqlalchemy.engine.base.Engine PRAGMA index_list(\"otu\")\n",
      "2018-03-18 21:28:13,309 INFO sqlalchemy.engine.base.Engine ()\n",
      "2018-03-18 21:28:13,312 INFO sqlalchemy.engine.base.Engine SELECT sql FROM  (SELECT * FROM sqlite_master UNION ALL   SELECT * FROM sqlite_temp_master) WHERE name = 'otu' AND type = 'table'\n",
      "2018-03-18 21:28:13,314 INFO sqlalchemy.engine.base.Engine ()\n",
      "2018-03-18 21:28:13,318 INFO sqlalchemy.engine.base.Engine PRAGMA table_info(\"samples\")\n",
      "2018-03-18 21:28:13,320 INFO sqlalchemy.engine.base.Engine ()\n",
      "2018-03-18 21:28:13,329 INFO sqlalchemy.engine.base.Engine SELECT sql FROM  (SELECT * FROM sqlite_master UNION ALL   SELECT * FROM sqlite_temp_master) WHERE name = 'samples' AND type = 'table'\n",
      "2018-03-18 21:28:13,331 INFO sqlalchemy.engine.base.Engine ()\n",
      "2018-03-18 21:28:13,334 INFO sqlalchemy.engine.base.Engine PRAGMA foreign_key_list(\"samples\")\n",
      "2018-03-18 21:28:13,335 INFO sqlalchemy.engine.base.Engine ()\n",
      "2018-03-18 21:28:13,338 INFO sqlalchemy.engine.base.Engine SELECT sql FROM  (SELECT * FROM sqlite_master UNION ALL   SELECT * FROM sqlite_temp_master) WHERE name = 'samples' AND type = 'table'\n",
      "2018-03-18 21:28:13,340 INFO sqlalchemy.engine.base.Engine ()\n",
      "2018-03-18 21:28:13,343 INFO sqlalchemy.engine.base.Engine PRAGMA index_list(\"samples\")\n",
      "2018-03-18 21:28:13,345 INFO sqlalchemy.engine.base.Engine ()\n",
      "2018-03-18 21:28:13,348 INFO sqlalchemy.engine.base.Engine PRAGMA index_list(\"samples\")\n",
      "2018-03-18 21:28:13,350 INFO sqlalchemy.engine.base.Engine ()\n",
      "2018-03-18 21:28:13,353 INFO sqlalchemy.engine.base.Engine SELECT sql FROM  (SELECT * FROM sqlite_master UNION ALL   SELECT * FROM sqlite_temp_master) WHERE name = 'samples' AND type = 'table'\n",
      "2018-03-18 21:28:13,355 INFO sqlalchemy.engine.base.Engine ()\n",
      "2018-03-18 21:28:13,359 INFO sqlalchemy.engine.base.Engine PRAGMA table_info(\"samples_metadata\")\n",
      "2018-03-18 21:28:13,362 INFO sqlalchemy.engine.base.Engine ()\n",
      "2018-03-18 21:28:13,366 INFO sqlalchemy.engine.base.Engine SELECT sql FROM  (SELECT * FROM sqlite_master UNION ALL   SELECT * FROM sqlite_temp_master) WHERE name = 'samples_metadata' AND type = 'table'\n",
      "2018-03-18 21:28:13,367 INFO sqlalchemy.engine.base.Engine ()\n",
      "2018-03-18 21:28:13,370 INFO sqlalchemy.engine.base.Engine PRAGMA foreign_key_list(\"samples_metadata\")\n",
      "2018-03-18 21:28:13,372 INFO sqlalchemy.engine.base.Engine ()\n",
      "2018-03-18 21:28:13,374 INFO sqlalchemy.engine.base.Engine SELECT sql FROM  (SELECT * FROM sqlite_master UNION ALL   SELECT * FROM sqlite_temp_master) WHERE name = 'samples_metadata' AND type = 'table'\n",
      "2018-03-18 21:28:13,376 INFO sqlalchemy.engine.base.Engine ()\n",
      "2018-03-18 21:28:13,378 INFO sqlalchemy.engine.base.Engine PRAGMA index_list(\"samples_metadata\")\n",
      "2018-03-18 21:28:13,380 INFO sqlalchemy.engine.base.Engine ()\n",
      "2018-03-18 21:28:13,382 INFO sqlalchemy.engine.base.Engine PRAGMA index_list(\"samples_metadata\")\n",
      "2018-03-18 21:28:13,383 INFO sqlalchemy.engine.base.Engine ()\n",
      "2018-03-18 21:28:13,385 INFO sqlalchemy.engine.base.Engine SELECT sql FROM  (SELECT * FROM sqlite_master UNION ALL   SELECT * FROM sqlite_temp_master) WHERE name = 'samples_metadata' AND type = 'table'\n",
      "2018-03-18 21:28:13,387 INFO sqlalchemy.engine.base.Engine ()\n",
      "2018-03-18 21:28:13,408 INFO sqlalchemy.engine.base.Engine SELECT name FROM sqlite_master WHERE type='table' ORDER BY name\n",
      "2018-03-18 21:28:13,410 INFO sqlalchemy.engine.base.Engine ()\n",
      "2018-03-18 21:28:13,413 INFO sqlalchemy.engine.base.Engine PRAGMA table_info(\"otu\")\n",
      "2018-03-18 21:28:13,414 INFO sqlalchemy.engine.base.Engine ()\n",
      "2018-03-18 21:28:13,417 INFO sqlalchemy.engine.base.Engine SELECT sql FROM  (SELECT * FROM sqlite_master UNION ALL   SELECT * FROM sqlite_temp_master) WHERE name = 'otu' AND type = 'table'\n",
      "2018-03-18 21:28:13,419 INFO sqlalchemy.engine.base.Engine ()\n",
      "2018-03-18 21:28:13,420 INFO sqlalchemy.engine.base.Engine PRAGMA foreign_key_list(\"otu\")\n",
      "2018-03-18 21:28:13,422 INFO sqlalchemy.engine.base.Engine ()\n",
      "2018-03-18 21:28:13,423 INFO sqlalchemy.engine.base.Engine SELECT sql FROM  (SELECT * FROM sqlite_master UNION ALL   SELECT * FROM sqlite_temp_master) WHERE name = 'otu' AND type = 'table'\n",
      "2018-03-18 21:28:13,425 INFO sqlalchemy.engine.base.Engine ()\n",
      "2018-03-18 21:28:13,426 INFO sqlalchemy.engine.base.Engine PRAGMA index_list(\"otu\")\n",
      "2018-03-18 21:28:13,428 INFO sqlalchemy.engine.base.Engine ()\n",
      "2018-03-18 21:28:13,430 INFO sqlalchemy.engine.base.Engine PRAGMA index_list(\"otu\")\n",
      "2018-03-18 21:28:13,432 INFO sqlalchemy.engine.base.Engine ()\n",
      "2018-03-18 21:28:13,434 INFO sqlalchemy.engine.base.Engine SELECT sql FROM  (SELECT * FROM sqlite_master UNION ALL   SELECT * FROM sqlite_temp_master) WHERE name = 'otu' AND type = 'table'\n",
      "2018-03-18 21:28:13,436 INFO sqlalchemy.engine.base.Engine ()\n",
      "2018-03-18 21:28:13,438 INFO sqlalchemy.engine.base.Engine PRAGMA table_info(\"samples\")\n",
      "2018-03-18 21:28:13,440 INFO sqlalchemy.engine.base.Engine ()\n",
      "2018-03-18 21:28:13,449 INFO sqlalchemy.engine.base.Engine SELECT sql FROM  (SELECT * FROM sqlite_master UNION ALL   SELECT * FROM sqlite_temp_master) WHERE name = 'samples' AND type = 'table'\n",
      "2018-03-18 21:28:13,450 INFO sqlalchemy.engine.base.Engine ()\n",
      "2018-03-18 21:28:13,452 INFO sqlalchemy.engine.base.Engine PRAGMA foreign_key_list(\"samples\")\n",
      "2018-03-18 21:28:13,454 INFO sqlalchemy.engine.base.Engine ()\n",
      "2018-03-18 21:28:13,455 INFO sqlalchemy.engine.base.Engine SELECT sql FROM  (SELECT * FROM sqlite_master UNION ALL   SELECT * FROM sqlite_temp_master) WHERE name = 'samples' AND type = 'table'\n",
      "2018-03-18 21:28:13,457 INFO sqlalchemy.engine.base.Engine ()\n",
      "2018-03-18 21:28:13,459 INFO sqlalchemy.engine.base.Engine PRAGMA index_list(\"samples\")\n",
      "2018-03-18 21:28:13,460 INFO sqlalchemy.engine.base.Engine ()\n",
      "2018-03-18 21:28:13,463 INFO sqlalchemy.engine.base.Engine PRAGMA index_list(\"samples\")\n",
      "2018-03-18 21:28:13,465 INFO sqlalchemy.engine.base.Engine ()\n",
      "2018-03-18 21:28:13,467 INFO sqlalchemy.engine.base.Engine SELECT sql FROM  (SELECT * FROM sqlite_master UNION ALL   SELECT * FROM sqlite_temp_master) WHERE name = 'samples' AND type = 'table'\n",
      "2018-03-18 21:28:13,469 INFO sqlalchemy.engine.base.Engine ()\n",
      "2018-03-18 21:28:13,473 INFO sqlalchemy.engine.base.Engine PRAGMA table_info(\"samples_metadata\")\n",
      "2018-03-18 21:28:13,476 INFO sqlalchemy.engine.base.Engine ()\n",
      "2018-03-18 21:28:13,480 INFO sqlalchemy.engine.base.Engine SELECT sql FROM  (SELECT * FROM sqlite_master UNION ALL   SELECT * FROM sqlite_temp_master) WHERE name = 'samples_metadata' AND type = 'table'\n",
      "2018-03-18 21:28:13,483 INFO sqlalchemy.engine.base.Engine ()\n",
      "2018-03-18 21:28:13,486 INFO sqlalchemy.engine.base.Engine PRAGMA foreign_key_list(\"samples_metadata\")\n",
      "2018-03-18 21:28:13,488 INFO sqlalchemy.engine.base.Engine ()\n",
      "2018-03-18 21:28:13,490 INFO sqlalchemy.engine.base.Engine SELECT sql FROM  (SELECT * FROM sqlite_master UNION ALL   SELECT * FROM sqlite_temp_master) WHERE name = 'samples_metadata' AND type = 'table'\n"
     ]
    },
    {
     "name": "stdout",
     "output_type": "stream",
     "text": [
      "2018-03-18 21:28:13,492 INFO sqlalchemy.engine.base.Engine ()\n",
      "2018-03-18 21:28:13,494 INFO sqlalchemy.engine.base.Engine PRAGMA index_list(\"samples_metadata\")\n",
      "2018-03-18 21:28:13,495 INFO sqlalchemy.engine.base.Engine ()\n",
      "2018-03-18 21:28:13,497 INFO sqlalchemy.engine.base.Engine PRAGMA index_list(\"samples_metadata\")\n",
      "2018-03-18 21:28:13,499 INFO sqlalchemy.engine.base.Engine ()\n",
      "2018-03-18 21:28:13,501 INFO sqlalchemy.engine.base.Engine SELECT sql FROM  (SELECT * FROM sqlite_master UNION ALL   SELECT * FROM sqlite_temp_master) WHERE name = 'samples_metadata' AND type = 'table'\n",
      "2018-03-18 21:28:13,502 INFO sqlalchemy.engine.base.Engine ()\n"
     ]
    }
   ],
   "source": [
    "# Create engine using the database file\n",
    "engine = create_engine(\"sqlite:///Instructions/DataSets/belly_button_biodiversity.sqlite\",echo=True)\n",
    "# Declare a Base using `automap_base()\n",
    "Base = automap_base()\n",
    "\n",
    "# Use the Base class to reflect the database tables\n",
    "Base.prepare(engine, reflect=True)\n",
    "\n",
    "# Create a MetaData instance\n",
    "metadata = MetaData()\n",
    "\n",
    "# reflect db schema to MetaData\n",
    "metadata.reflect(bind=engine)\n",
    "\n",
    "#name the tables\n",
    "Otu = Base.classes.otu\n",
    "Samples = Base.classes.samples\n",
    "Samples_Metadata = Base.classes.samples_metadata"
   ]
  },
  {
   "cell_type": "code",
   "execution_count": 4,
   "metadata": {},
   "outputs": [
    {
     "name": "stdout",
     "output_type": "stream",
     "text": [
      "2018-03-18 21:28:13,769 INFO sqlalchemy.engine.base.Engine SELECT name FROM sqlite_master WHERE type='table' ORDER BY name\n",
      "2018-03-18 21:28:13,771 INFO sqlalchemy.engine.base.Engine ()\n"
     ]
    },
    {
     "data": {
      "text/plain": [
       "['otu', 'samples', 'samples_metadata']"
      ]
     },
     "execution_count": 4,
     "metadata": {},
     "output_type": "execute_result"
    }
   ],
   "source": [
    "inspector = inspect(engine)\n",
    "inspector.get_table_names()"
   ]
  },
  {
   "cell_type": "code",
   "execution_count": 5,
   "metadata": {},
   "outputs": [
    {
     "name": "stdout",
     "output_type": "stream",
     "text": [
      "<sqlalchemy.engine.base.Connection object at 0x106aa81d0>\n"
     ]
    }
   ],
   "source": [
    "conn = engine.connect()\n",
    "print(conn)"
   ]
  },
  {
   "cell_type": "code",
   "execution_count": 32,
   "metadata": {},
   "outputs": [
    {
     "name": "stdout",
     "output_type": "stream",
     "text": [
      "['BB_940', 'BB_941', 'BB_943', 'BB_944', 'BB_945', 'BB_946', 'BB_947', 'BB_948', 'BB_949', 'BB_950', 'BB_952', 'BB_953', 'BB_954', 'BB_955', 'BB_956', 'BB_958', 'BB_959', 'BB_960', 'BB_961', 'BB_962', 'BB_963', 'BB_964', 'BB_966', 'BB_967', 'BB_968', 'BB_969', 'BB_970', 'BB_971', 'BB_972', 'BB_973', 'BB_974', 'BB_975', 'BB_978', 'BB_1233', 'BB_1234', 'BB_1235', 'BB_1236', 'BB_1237', 'BB_1238', 'BB_1242', 'BB_1243', 'BB_1246', 'BB_1253', 'BB_1254', 'BB_1258', 'BB_1259', 'BB_1260', 'BB_1264', 'BB_1265', 'BB_1273', 'BB_1275', 'BB_1276', 'BB_1277', 'BB_1278', 'BB_1279', 'BB_1280', 'BB_1281', 'BB_1282', 'BB_1283', 'BB_1284', 'BB_1285', 'BB_1286', 'BB_1287', 'BB_1288', 'BB_1289', 'BB_1290', 'BB_1291', 'BB_1292', 'BB_1293', 'BB_1294', 'BB_1295', 'BB_1296', 'BB_1297', 'BB_1298', 'BB_1308', 'BB_1309', 'BB_1310', 'BB_1374', 'BB_1415', 'BB_1439', 'BB_1441', 'BB_1443', 'BB_1486', 'BB_1487', 'BB_1489', 'BB_1490', 'BB_1491', 'BB_1494', 'BB_1495', 'BB_1497', 'BB_1499', 'BB_1500', 'BB_1501', 'BB_1502', 'BB_1503', 'BB_1504', 'BB_1505', 'BB_1506', 'BB_1507', 'BB_1508', 'BB_1510', 'BB_1511', 'BB_1512', 'BB_1513', 'BB_1514', 'BB_1515', 'BB_1516', 'BB_1517', 'BB_1518', 'BB_1519', 'BB_1521', 'BB_1524', 'BB_1526', 'BB_1527', 'BB_1530', 'BB_1531', 'BB_1532', 'BB_1533', 'BB_1534', 'BB_1535', 'BB_1536', 'BB_1537', 'BB_1539', 'BB_1540', 'BB_1541', 'BB_1542', 'BB_1543', 'BB_1544', 'BB_1545', 'BB_1546', 'BB_1547', 'BB_1548', 'BB_1549', 'BB_1550', 'BB_1551', 'BB_1552', 'BB_1553', 'BB_1554', 'BB_1555', 'BB_1556', 'BB_1557', 'BB_1558', 'BB_1561', 'BB_1562', 'BB_1563', 'BB_1564', 'BB_1572', 'BB_1573', 'BB_1574', 'BB_1576', 'BB_1577', 'BB_1581', 'BB_1601']\n"
     ]
    }
   ],
   "source": [
    "def get_columns():\n",
    "    #lets grab the column names\n",
    "    column_names=[]\n",
    "    columns = metadata.tables['samples'].columns.keys()\n",
    "    column_names = columns[1:len(columns)]\n",
    "    return (column_names)\n",
    "\n",
    "test_column_name = get_columns()\n",
    "print(test_column_name)\n",
    "\n"
   ]
  },
  {
   "cell_type": "code",
   "execution_count": 7,
   "metadata": {},
   "outputs": [],
   "source": [
    "#conn.execute(\"select lowest_taxonomic_unit_found from OTU Limit 5 \").fetchall()"
   ]
  },
  {
   "cell_type": "code",
   "execution_count": 8,
   "metadata": {},
   "outputs": [
    {
     "name": "stdout",
     "output_type": "stream",
     "text": [
      "2018-03-18 21:28:16,123 INFO sqlalchemy.engine.base.Engine select lowest_taxonomic_unit_found from OTU order by otu_id\n",
      "2018-03-18 21:28:16,125 INFO sqlalchemy.engine.base.Engine ()\n"
     ]
    }
   ],
   "source": [
    "def get_otu_desc():\n",
    "    s=conn.execute(\"select lowest_taxonomic_unit_found from OTU order by otu_id\").fetchall()\n",
    "    names = [row[0] for row in s]\n",
    "    return (names)\n",
    "\n",
    "test_desc = get_otu_desc()\n",
    "#print(test_desc)"
   ]
  },
  {
   "cell_type": "code",
   "execution_count": 9,
   "metadata": {
    "collapsed": true
   },
   "outputs": [],
   "source": [
    "def get_metadata(sample_number):\n",
    "    query_param = sample_number[3:]\n",
    "    \n",
    "    #print(query_param)\n",
    "    s = conn.execute(\"select AGE,BBTYPE, ETHNICITY, GENDER , LOCATION from samples_metadata where sampleid=?\",query_param).fetchall()\n",
    "    print(\"output of query is\",s)\n",
    "     \n",
    "    \n",
    "       \n",
    "    bb_metadata={\"Age\" : s[0][0],\n",
    "                 \"BBTYPE\":s[0][1],\n",
    "                 \"ETHNICITY\":s[0][2],\n",
    "                 \"GENDER\":s[0][3],\n",
    "                 \"LOCATION\":s[0][4],\n",
    "                 \"SAMPLEID\":query_param\n",
    "                }\n",
    "    return(bb_metadata)"
   ]
  },
  {
   "cell_type": "code",
   "execution_count": 10,
   "metadata": {},
   "outputs": [
    {
     "name": "stdout",
     "output_type": "stream",
     "text": [
      "2018-03-18 21:28:17,501 INFO sqlalchemy.engine.base.Engine select AGE,BBTYPE, ETHNICITY, GENDER , LOCATION from samples_metadata where sampleid=?\n",
      "2018-03-18 21:28:17,504 INFO sqlalchemy.engine.base.Engine ('948',)\n",
      "output of query is [(20, 'I', 'Caucasian', 'M', 'ChapelHill/NC')]\n",
      "{'Age': 20, 'BBTYPE': 'I', 'ETHNICITY': 'Caucasian', 'GENDER': 'M', 'LOCATION': 'ChapelHill/NC', 'SAMPLEID': '948'}\n"
     ]
    }
   ],
   "source": [
    "test_metadata = get_metadata('BB_948')\n",
    "print(test_metadata)"
   ]
  },
  {
   "cell_type": "code",
   "execution_count": 11,
   "metadata": {},
   "outputs": [],
   "source": [
    "def get_wfreq(otu_id):\n",
    "    input_bb = otu_id\n",
    "    search_query=input_bb.split(\"_\")\n",
    "    query_param=search_query[1]\n",
    "    wfreq_data = conn.execute(\"select WFREQ from samples_metadata where sampleid=?\",query_param).fetchone() \n",
    "    return(wfreq_data[0])\n",
    "\n",
    "\n",
    "\n"
   ]
  },
  {
   "cell_type": "code",
   "execution_count": 12,
   "metadata": {},
   "outputs": [
    {
     "name": "stdout",
     "output_type": "stream",
     "text": [
      "2018-03-18 21:28:18,779 INFO sqlalchemy.engine.base.Engine select WFREQ from samples_metadata where sampleid=?\n",
      "2018-03-18 21:28:18,781 INFO sqlalchemy.engine.base.Engine ('940',)\n",
      "2\n"
     ]
    }
   ],
   "source": [
    "test_metadata = get_wfreq('BB_940')\n",
    "print(test_metadata)"
   ]
  },
  {
   "cell_type": "code",
   "execution_count": 23,
   "metadata": {
    "collapsed": true
   },
   "outputs": [],
   "source": [
    "def get_otu_id(sample_number):\n",
    "    query_param = sample_number\n",
    "    otu_id=[]\n",
    "    distribution=[]\n",
    "    pie_dict =[]\n",
    "\n",
    "    #print(query_param)\n",
    "    s = conn.execute(\"select  otu_id , BB_940 from samples order by BB_940 desc\").fetchall()\n",
    "    #print(\"output of query is\",s)\n",
    "    print(\"outputin function\",s[0:15])\n",
    "    for i in range(len(s[0:15])):\n",
    "        print(s[i][0])\n",
    "        print(s[i][1])\n",
    "        otu_id.append(s[i][0])\n",
    "        distribution.append(s[i][1])\n",
    "    pie_dict.append(otu_id)\n",
    "    pie_dict.append(distribution)\n",
    "    print(pie_dict)\n",
    "    return pie_dict\n",
    "    \n",
    "      \n",
    " "
   ]
  },
  {
   "cell_type": "code",
   "execution_count": 24,
   "metadata": {},
   "outputs": [
    {
     "name": "stdout",
     "output_type": "stream",
     "text": [
      "2018-03-18 21:39:41,388 INFO sqlalchemy.engine.base.Engine select  otu_id , BB_940 from samples order by BB_940 desc\n",
      "2018-03-18 21:39:41,390 INFO sqlalchemy.engine.base.Engine ()\n",
      "outputin function [(1167, 163), (2859, 126), (482, 113), (2264, 78), (41, 71), (1189, 51), (352, 50), (189, 47), (1977, 40), (2318, 40), (3450, 37), (874, 36), (1959, 30), (2191, 28), (1950, 25)]\n",
      "1167\n",
      "163\n",
      "2859\n",
      "126\n",
      "482\n",
      "113\n",
      "2264\n",
      "78\n",
      "41\n",
      "71\n",
      "1189\n",
      "51\n",
      "352\n",
      "50\n",
      "189\n",
      "47\n",
      "1977\n",
      "40\n",
      "2318\n",
      "40\n",
      "3450\n",
      "37\n",
      "874\n",
      "36\n",
      "1959\n",
      "30\n",
      "2191\n",
      "28\n",
      "1950\n",
      "25\n",
      "[[1167, 2859, 482, 2264, 41, 1189, 352, 189, 1977, 2318, 3450, 874, 1959, 2191, 1950], [163, 126, 113, 78, 71, 51, 50, 47, 40, 40, 37, 36, 30, 28, 25]]\n"
     ]
    }
   ],
   "source": [
    "test_dict = get_otu_id('BB_940')"
   ]
  },
  {
   "cell_type": "code",
   "execution_count": 25,
   "metadata": {},
   "outputs": [
    {
     "name": "stdout",
     "output_type": "stream",
     "text": [
      "2018-03-18 21:39:50,091 INFO sqlalchemy.engine.base.Engine select  otu_id , BB_940 from samples order by BB_940 desc\n",
      "2018-03-18 21:39:50,094 INFO sqlalchemy.engine.base.Engine ()\n",
      "outputin function [(1167, 163), (2859, 126), (482, 113), (2264, 78), (41, 71), (1189, 51), (352, 50), (189, 47), (1977, 40), (2318, 40), (3450, 37), (874, 36), (1959, 30), (2191, 28), (1950, 25)]\n",
      "1167\n",
      "163\n",
      "2859\n",
      "126\n",
      "482\n",
      "113\n",
      "2264\n",
      "78\n",
      "41\n",
      "71\n",
      "1189\n",
      "51\n",
      "352\n",
      "50\n",
      "189\n",
      "47\n",
      "1977\n",
      "40\n",
      "2318\n",
      "40\n",
      "3450\n",
      "37\n",
      "874\n",
      "36\n",
      "1959\n",
      "30\n",
      "2191\n",
      "28\n",
      "1950\n",
      "25\n",
      "[[1167, 2859, 482, 2264, 41, 1189, 352, 189, 1977, 2318, 3450, 874, 1959, 2191, 1950], [163, 126, 113, 78, 71, 51, 50, 47, 40, 40, 37, 36, 30, 28, 25]]\n",
      "[1167, 2859, 482, 2264, 41, 1189, 352, 189, 1977, 2318, 3450, 874, 1959, 2191, 1950]\n",
      "2018-03-18 21:39:50,101 INFO sqlalchemy.engine.base.Engine select  otu_id , BB_940 from samples order by BB_940 desc\n",
      "2018-03-18 21:39:50,115 INFO sqlalchemy.engine.base.Engine ()\n",
      "outputin function [(1167, 163), (2859, 126), (482, 113), (2264, 78), (41, 71), (1189, 51), (352, 50), (189, 47), (1977, 40), (2318, 40), (3450, 37), (874, 36), (1959, 30), (2191, 28), (1950, 25)]\n",
      "1167\n",
      "163\n",
      "2859\n",
      "126\n",
      "482\n",
      "113\n",
      "2264\n",
      "78\n",
      "41\n",
      "71\n",
      "1189\n",
      "51\n",
      "352\n",
      "50\n",
      "189\n",
      "47\n",
      "1977\n",
      "40\n",
      "2318\n",
      "40\n",
      "3450\n",
      "37\n",
      "874\n",
      "36\n",
      "1959\n",
      "30\n",
      "2191\n",
      "28\n",
      "1950\n",
      "25\n",
      "[[1167, 2859, 482, 2264, 41, 1189, 352, 189, 1977, 2318, 3450, 874, 1959, 2191, 1950], [163, 126, 113, 78, 71, 51, 50, 47, 40, 40, 37, 36, 30, 28, 25]]\n",
      "[163, 126, 113, 78, 71, 51, 50, 47, 40, 40, 37, 36, 30, 28, 25]\n"
     ]
    }
   ],
   "source": [
    "#Create a PIE chart that uses data from your routes /samples/<sample> and /otu to display the top 10 samples.\n",
    "#Use the Sample Value as the values for the PIE chart -\n",
    "#Use the OTU ID as the labels for the pie chart\n",
    "#Use the OTU Description as the hovertext for the chart\n",
    "\n",
    "otu_id = get_otu_id('BB_940')[0]\n",
    "print(otu_id)\n",
    "descrip = get_otu_id('BB_940')[1]\n",
    "print(descrip)"
   ]
  }
 ],
 "metadata": {
  "kernelspec": {
   "display_name": "Python 3",
   "language": "python",
   "name": "python3"
  },
  "language_info": {
   "codemirror_mode": {
    "name": "ipython",
    "version": 3
   },
   "file_extension": ".py",
   "mimetype": "text/x-python",
   "name": "python",
   "nbconvert_exporter": "python",
   "pygments_lexer": "ipython3",
   "version": "3.6.2"
  }
 },
 "nbformat": 4,
 "nbformat_minor": 2
}
